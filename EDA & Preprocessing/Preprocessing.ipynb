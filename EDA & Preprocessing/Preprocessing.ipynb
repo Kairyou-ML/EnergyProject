{
 "cells": [
  {
   "cell_type": "code",
   "execution_count": 62,
   "id": "156febc3",
   "metadata": {},
   "outputs": [],
   "source": [
    "import pandas as pd\n",
    "import matplotlib.pyplot as plt\n",
    "import seaborn as sns"
   ]
  },
  {
   "cell_type": "code",
   "execution_count": 63,
   "id": "4bd0e99d",
   "metadata": {},
   "outputs": [],
   "source": [
    "df = pd.read_csv(\"../Data/raw.csv\") "
   ]
  },
  {
   "cell_type": "markdown",
   "id": "69d6dd41",
   "metadata": {},
   "source": [
    "# 1. Overview"
   ]
  },
  {
   "cell_type": "code",
   "execution_count": 64,
   "id": "e9f2306e",
   "metadata": {},
   "outputs": [
    {
     "data": {
      "text/plain": [
       "(1000, 12)"
      ]
     },
     "execution_count": 64,
     "metadata": {},
     "output_type": "execute_result"
    }
   ],
   "source": [
    "df.shape"
   ]
  },
  {
   "cell_type": "code",
   "execution_count": 65,
   "id": "4de44053",
   "metadata": {},
   "outputs": [
    {
     "data": {
      "text/plain": [
       "<bound method NDFrame.head of     Household_ID         Region      Country Energy_Source  Monthly_Usage_kWh  \\\n",
       "0         H01502  North America          USA         Hydro            1043.49   \n",
       "1         H02587      Australia    Australia    Geothermal             610.01   \n",
       "2         H02654  North America          USA       Biomass            1196.75   \n",
       "3         H01056  South America     Colombia       Biomass             629.67   \n",
       "4         H00706         Africa        Egypt         Hydro             274.46   \n",
       "..           ...            ...          ...           ...                ...   \n",
       "995       H04712           Asia        Japan          Wind            1056.65   \n",
       "996       H02314  North America          USA          Wind            1182.33   \n",
       "997       H03215         Europe      Germany          Wind             417.88   \n",
       "998       H02733      Australia    Australia       Biomass             258.91   \n",
       "999       H01927      Australia  New Zealand       Biomass             455.84   \n",
       "\n",
       "     Year  Household_Size Income_Level Urban_Rural  Adoption_Year  \\\n",
       "0    2024               5          Low       Urban           2012   \n",
       "1    2024               4         High       Rural           2023   \n",
       "2    2024               8          Low       Rural           2017   \n",
       "3    2024               7         High       Urban           2023   \n",
       "4    2022               7       Middle       Rural           2010   \n",
       "..    ...             ...          ...         ...            ...   \n",
       "995  2021               6       Middle       Urban           2018   \n",
       "996  2020               2         High       Rural           2019   \n",
       "997  2023               6       Middle       Rural           2010   \n",
       "998  2020               7       Middle       Urban           2017   \n",
       "999  2020               7          Low       Urban           2013   \n",
       "\n",
       "    Subsidy_Received  Cost_Savings_USD  \n",
       "0                 No             10.46  \n",
       "1                 No             43.49  \n",
       "2                Yes             93.28  \n",
       "3                 No            472.85  \n",
       "4                 No             65.98  \n",
       "..               ...               ...  \n",
       "995               No            307.67  \n",
       "996               No            125.96  \n",
       "997              Yes            273.25  \n",
       "998              Yes            224.35  \n",
       "999               No            252.97  \n",
       "\n",
       "[1000 rows x 12 columns]>"
      ]
     },
     "execution_count": 65,
     "metadata": {},
     "output_type": "execute_result"
    }
   ],
   "source": [
    "df.head"
   ]
  },
  {
   "cell_type": "code",
   "execution_count": 66,
   "id": "779fad92",
   "metadata": {},
   "outputs": [
    {
     "data": {
      "text/plain": [
       "<bound method DataFrame.info of     Household_ID         Region      Country Energy_Source  Monthly_Usage_kWh  \\\n",
       "0         H01502  North America          USA         Hydro            1043.49   \n",
       "1         H02587      Australia    Australia    Geothermal             610.01   \n",
       "2         H02654  North America          USA       Biomass            1196.75   \n",
       "3         H01056  South America     Colombia       Biomass             629.67   \n",
       "4         H00706         Africa        Egypt         Hydro             274.46   \n",
       "..           ...            ...          ...           ...                ...   \n",
       "995       H04712           Asia        Japan          Wind            1056.65   \n",
       "996       H02314  North America          USA          Wind            1182.33   \n",
       "997       H03215         Europe      Germany          Wind             417.88   \n",
       "998       H02733      Australia    Australia       Biomass             258.91   \n",
       "999       H01927      Australia  New Zealand       Biomass             455.84   \n",
       "\n",
       "     Year  Household_Size Income_Level Urban_Rural  Adoption_Year  \\\n",
       "0    2024               5          Low       Urban           2012   \n",
       "1    2024               4         High       Rural           2023   \n",
       "2    2024               8          Low       Rural           2017   \n",
       "3    2024               7         High       Urban           2023   \n",
       "4    2022               7       Middle       Rural           2010   \n",
       "..    ...             ...          ...         ...            ...   \n",
       "995  2021               6       Middle       Urban           2018   \n",
       "996  2020               2         High       Rural           2019   \n",
       "997  2023               6       Middle       Rural           2010   \n",
       "998  2020               7       Middle       Urban           2017   \n",
       "999  2020               7          Low       Urban           2013   \n",
       "\n",
       "    Subsidy_Received  Cost_Savings_USD  \n",
       "0                 No             10.46  \n",
       "1                 No             43.49  \n",
       "2                Yes             93.28  \n",
       "3                 No            472.85  \n",
       "4                 No             65.98  \n",
       "..               ...               ...  \n",
       "995               No            307.67  \n",
       "996               No            125.96  \n",
       "997              Yes            273.25  \n",
       "998              Yes            224.35  \n",
       "999               No            252.97  \n",
       "\n",
       "[1000 rows x 12 columns]>"
      ]
     },
     "execution_count": 66,
     "metadata": {},
     "output_type": "execute_result"
    }
   ],
   "source": [
    "df.info"
   ]
  },
  {
   "cell_type": "code",
   "execution_count": 67,
   "id": "39e8678e",
   "metadata": {},
   "outputs": [
    {
     "data": {
      "text/plain": [
       "Household_ID         0\n",
       "Region               0\n",
       "Country              0\n",
       "Energy_Source        0\n",
       "Monthly_Usage_kWh    0\n",
       "Year                 0\n",
       "Household_Size       0\n",
       "Income_Level         0\n",
       "Urban_Rural          0\n",
       "Adoption_Year        0\n",
       "Subsidy_Received     0\n",
       "Cost_Savings_USD     0\n",
       "dtype: int64"
      ]
     },
     "execution_count": 67,
     "metadata": {},
     "output_type": "execute_result"
    }
   ],
   "source": [
    "df.isnull().sum()"
   ]
  },
  {
   "cell_type": "code",
   "execution_count": 68,
   "id": "03b5bc6f",
   "metadata": {},
   "outputs": [
    {
     "data": {
      "text/html": [
       "<div>\n",
       "<style scoped>\n",
       "    .dataframe tbody tr th:only-of-type {\n",
       "        vertical-align: middle;\n",
       "    }\n",
       "\n",
       "    .dataframe tbody tr th {\n",
       "        vertical-align: top;\n",
       "    }\n",
       "\n",
       "    .dataframe thead th {\n",
       "        text-align: right;\n",
       "    }\n",
       "</style>\n",
       "<table border=\"1\" class=\"dataframe\">\n",
       "  <thead>\n",
       "    <tr style=\"text-align: right;\">\n",
       "      <th></th>\n",
       "      <th>Household_ID</th>\n",
       "      <th>Region</th>\n",
       "      <th>Country</th>\n",
       "      <th>Energy_Source</th>\n",
       "      <th>Monthly_Usage_kWh</th>\n",
       "      <th>Year</th>\n",
       "      <th>Household_Size</th>\n",
       "      <th>Income_Level</th>\n",
       "      <th>Urban_Rural</th>\n",
       "      <th>Adoption_Year</th>\n",
       "      <th>Subsidy_Received</th>\n",
       "      <th>Cost_Savings_USD</th>\n",
       "    </tr>\n",
       "  </thead>\n",
       "  <tbody>\n",
       "    <tr>\n",
       "      <th>count</th>\n",
       "      <td>1000</td>\n",
       "      <td>1000</td>\n",
       "      <td>1000</td>\n",
       "      <td>1000</td>\n",
       "      <td>1000.000000</td>\n",
       "      <td>1000.000000</td>\n",
       "      <td>1000.000000</td>\n",
       "      <td>1000</td>\n",
       "      <td>1000</td>\n",
       "      <td>1000.000000</td>\n",
       "      <td>1000</td>\n",
       "      <td>1000.000000</td>\n",
       "    </tr>\n",
       "    <tr>\n",
       "      <th>unique</th>\n",
       "      <td>1000</td>\n",
       "      <td>6</td>\n",
       "      <td>25</td>\n",
       "      <td>5</td>\n",
       "      <td>NaN</td>\n",
       "      <td>NaN</td>\n",
       "      <td>NaN</td>\n",
       "      <td>3</td>\n",
       "      <td>2</td>\n",
       "      <td>NaN</td>\n",
       "      <td>2</td>\n",
       "      <td>NaN</td>\n",
       "    </tr>\n",
       "    <tr>\n",
       "      <th>top</th>\n",
       "      <td>H01502</td>\n",
       "      <td>Europe</td>\n",
       "      <td>Australia</td>\n",
       "      <td>Wind</td>\n",
       "      <td>NaN</td>\n",
       "      <td>NaN</td>\n",
       "      <td>NaN</td>\n",
       "      <td>Middle</td>\n",
       "      <td>Rural</td>\n",
       "      <td>NaN</td>\n",
       "      <td>No</td>\n",
       "      <td>NaN</td>\n",
       "    </tr>\n",
       "    <tr>\n",
       "      <th>freq</th>\n",
       "      <td>1</td>\n",
       "      <td>173</td>\n",
       "      <td>84</td>\n",
       "      <td>227</td>\n",
       "      <td>NaN</td>\n",
       "      <td>NaN</td>\n",
       "      <td>NaN</td>\n",
       "      <td>358</td>\n",
       "      <td>514</td>\n",
       "      <td>NaN</td>\n",
       "      <td>503</td>\n",
       "      <td>NaN</td>\n",
       "    </tr>\n",
       "    <tr>\n",
       "      <th>mean</th>\n",
       "      <td>NaN</td>\n",
       "      <td>NaN</td>\n",
       "      <td>NaN</td>\n",
       "      <td>NaN</td>\n",
       "      <td>767.325530</td>\n",
       "      <td>2021.992000</td>\n",
       "      <td>4.480000</td>\n",
       "      <td>NaN</td>\n",
       "      <td>NaN</td>\n",
       "      <td>2015.992000</td>\n",
       "      <td>NaN</td>\n",
       "      <td>248.389850</td>\n",
       "    </tr>\n",
       "    <tr>\n",
       "      <th>std</th>\n",
       "      <td>NaN</td>\n",
       "      <td>NaN</td>\n",
       "      <td>NaN</td>\n",
       "      <td>NaN</td>\n",
       "      <td>419.649102</td>\n",
       "      <td>1.419137</td>\n",
       "      <td>2.297581</td>\n",
       "      <td>NaN</td>\n",
       "      <td>NaN</td>\n",
       "      <td>3.973629</td>\n",
       "      <td>NaN</td>\n",
       "      <td>143.127301</td>\n",
       "    </tr>\n",
       "    <tr>\n",
       "      <th>min</th>\n",
       "      <td>NaN</td>\n",
       "      <td>NaN</td>\n",
       "      <td>NaN</td>\n",
       "      <td>NaN</td>\n",
       "      <td>50.740000</td>\n",
       "      <td>2020.000000</td>\n",
       "      <td>1.000000</td>\n",
       "      <td>NaN</td>\n",
       "      <td>NaN</td>\n",
       "      <td>2010.000000</td>\n",
       "      <td>NaN</td>\n",
       "      <td>10.420000</td>\n",
       "    </tr>\n",
       "    <tr>\n",
       "      <th>25%</th>\n",
       "      <td>NaN</td>\n",
       "      <td>NaN</td>\n",
       "      <td>NaN</td>\n",
       "      <td>NaN</td>\n",
       "      <td>402.730000</td>\n",
       "      <td>2021.000000</td>\n",
       "      <td>2.000000</td>\n",
       "      <td>NaN</td>\n",
       "      <td>NaN</td>\n",
       "      <td>2013.000000</td>\n",
       "      <td>NaN</td>\n",
       "      <td>122.122500</td>\n",
       "    </tr>\n",
       "    <tr>\n",
       "      <th>50%</th>\n",
       "      <td>NaN</td>\n",
       "      <td>NaN</td>\n",
       "      <td>NaN</td>\n",
       "      <td>NaN</td>\n",
       "      <td>760.190000</td>\n",
       "      <td>2022.000000</td>\n",
       "      <td>5.000000</td>\n",
       "      <td>NaN</td>\n",
       "      <td>NaN</td>\n",
       "      <td>2016.000000</td>\n",
       "      <td>NaN</td>\n",
       "      <td>242.530000</td>\n",
       "    </tr>\n",
       "    <tr>\n",
       "      <th>75%</th>\n",
       "      <td>NaN</td>\n",
       "      <td>NaN</td>\n",
       "      <td>NaN</td>\n",
       "      <td>NaN</td>\n",
       "      <td>1117.747500</td>\n",
       "      <td>2023.000000</td>\n",
       "      <td>6.000000</td>\n",
       "      <td>NaN</td>\n",
       "      <td>NaN</td>\n",
       "      <td>2019.000000</td>\n",
       "      <td>NaN</td>\n",
       "      <td>372.520000</td>\n",
       "    </tr>\n",
       "    <tr>\n",
       "      <th>max</th>\n",
       "      <td>NaN</td>\n",
       "      <td>NaN</td>\n",
       "      <td>NaN</td>\n",
       "      <td>NaN</td>\n",
       "      <td>1497.340000</td>\n",
       "      <td>2024.000000</td>\n",
       "      <td>8.000000</td>\n",
       "      <td>NaN</td>\n",
       "      <td>NaN</td>\n",
       "      <td>2024.000000</td>\n",
       "      <td>NaN</td>\n",
       "      <td>499.830000</td>\n",
       "    </tr>\n",
       "  </tbody>\n",
       "</table>\n",
       "</div>"
      ],
      "text/plain": [
       "       Household_ID  Region    Country Energy_Source  Monthly_Usage_kWh  \\\n",
       "count          1000    1000       1000          1000        1000.000000   \n",
       "unique         1000       6         25             5                NaN   \n",
       "top          H01502  Europe  Australia          Wind                NaN   \n",
       "freq              1     173         84           227                NaN   \n",
       "mean            NaN     NaN        NaN           NaN         767.325530   \n",
       "std             NaN     NaN        NaN           NaN         419.649102   \n",
       "min             NaN     NaN        NaN           NaN          50.740000   \n",
       "25%             NaN     NaN        NaN           NaN         402.730000   \n",
       "50%             NaN     NaN        NaN           NaN         760.190000   \n",
       "75%             NaN     NaN        NaN           NaN        1117.747500   \n",
       "max             NaN     NaN        NaN           NaN        1497.340000   \n",
       "\n",
       "               Year  Household_Size Income_Level Urban_Rural  Adoption_Year  \\\n",
       "count   1000.000000     1000.000000         1000        1000    1000.000000   \n",
       "unique          NaN             NaN            3           2            NaN   \n",
       "top             NaN             NaN       Middle       Rural            NaN   \n",
       "freq            NaN             NaN          358         514            NaN   \n",
       "mean    2021.992000        4.480000          NaN         NaN    2015.992000   \n",
       "std        1.419137        2.297581          NaN         NaN       3.973629   \n",
       "min     2020.000000        1.000000          NaN         NaN    2010.000000   \n",
       "25%     2021.000000        2.000000          NaN         NaN    2013.000000   \n",
       "50%     2022.000000        5.000000          NaN         NaN    2016.000000   \n",
       "75%     2023.000000        6.000000          NaN         NaN    2019.000000   \n",
       "max     2024.000000        8.000000          NaN         NaN    2024.000000   \n",
       "\n",
       "       Subsidy_Received  Cost_Savings_USD  \n",
       "count              1000       1000.000000  \n",
       "unique                2               NaN  \n",
       "top                  No               NaN  \n",
       "freq                503               NaN  \n",
       "mean                NaN        248.389850  \n",
       "std                 NaN        143.127301  \n",
       "min                 NaN         10.420000  \n",
       "25%                 NaN        122.122500  \n",
       "50%                 NaN        242.530000  \n",
       "75%                 NaN        372.520000  \n",
       "max                 NaN        499.830000  "
      ]
     },
     "execution_count": 68,
     "metadata": {},
     "output_type": "execute_result"
    }
   ],
   "source": [
    "df.describe(include='all')"
   ]
  },
  {
   "cell_type": "code",
   "execution_count": 69,
   "id": "725817dd",
   "metadata": {},
   "outputs": [
    {
     "name": "stdout",
     "output_type": "stream",
     "text": [
      "Kích thước dữ liệu: (1000, 12)\n",
      "\n",
      "5 dòng đầu:\n",
      "  Household_ID         Region    Country Energy_Source  Monthly_Usage_kWh  \\\n",
      "0       H01502  North America        USA         Hydro            1043.49   \n",
      "1       H02587      Australia  Australia    Geothermal             610.01   \n",
      "2       H02654  North America        USA       Biomass            1196.75   \n",
      "3       H01056  South America   Colombia       Biomass             629.67   \n",
      "4       H00706         Africa      Egypt         Hydro             274.46   \n",
      "\n",
      "   Year  Household_Size Income_Level Urban_Rural  Adoption_Year  \\\n",
      "0  2024               5          Low       Urban           2012   \n",
      "1  2024               4         High       Rural           2023   \n",
      "2  2024               8          Low       Rural           2017   \n",
      "3  2024               7         High       Urban           2023   \n",
      "4  2022               7       Middle       Rural           2010   \n",
      "\n",
      "  Subsidy_Received  Cost_Savings_USD  \n",
      "0               No             10.46  \n",
      "1               No             43.49  \n",
      "2              Yes             93.28  \n",
      "3               No            472.85  \n",
      "4               No             65.98  \n",
      "\n",
      "Thông tin các cột:\n",
      "<class 'pandas.core.frame.DataFrame'>\n",
      "RangeIndex: 1000 entries, 0 to 999\n",
      "Data columns (total 12 columns):\n",
      " #   Column             Non-Null Count  Dtype  \n",
      "---  ------             --------------  -----  \n",
      " 0   Household_ID       1000 non-null   object \n",
      " 1   Region             1000 non-null   object \n",
      " 2   Country            1000 non-null   object \n",
      " 3   Energy_Source      1000 non-null   object \n",
      " 4   Monthly_Usage_kWh  1000 non-null   float64\n",
      " 5   Year               1000 non-null   int64  \n",
      " 6   Household_Size     1000 non-null   int64  \n",
      " 7   Income_Level       1000 non-null   object \n",
      " 8   Urban_Rural        1000 non-null   object \n",
      " 9   Adoption_Year      1000 non-null   int64  \n",
      " 10  Subsidy_Received   1000 non-null   object \n",
      " 11  Cost_Savings_USD   1000 non-null   float64\n",
      "dtypes: float64(2), int64(3), object(7)\n",
      "memory usage: 93.9+ KB\n",
      "None\n",
      "\n",
      "Số lượng giá trị null mỗi cột:\n",
      "Household_ID         0\n",
      "Region               0\n",
      "Country              0\n",
      "Energy_Source        0\n",
      "Monthly_Usage_kWh    0\n",
      "Year                 0\n",
      "Household_Size       0\n",
      "Income_Level         0\n",
      "Urban_Rural          0\n",
      "Adoption_Year        0\n",
      "Subsidy_Received     0\n",
      "Cost_Savings_USD     0\n",
      "dtype: int64\n",
      "\n",
      "Thống kê mô tả:\n",
      "       Household_ID  Region    Country Energy_Source  Monthly_Usage_kWh  \\\n",
      "count          1000    1000       1000          1000        1000.000000   \n",
      "unique         1000       6         25             5                NaN   \n",
      "top          H01502  Europe  Australia          Wind                NaN   \n",
      "freq              1     173         84           227                NaN   \n",
      "mean            NaN     NaN        NaN           NaN         767.325530   \n",
      "std             NaN     NaN        NaN           NaN         419.649102   \n",
      "min             NaN     NaN        NaN           NaN          50.740000   \n",
      "25%             NaN     NaN        NaN           NaN         402.730000   \n",
      "50%             NaN     NaN        NaN           NaN         760.190000   \n",
      "75%             NaN     NaN        NaN           NaN        1117.747500   \n",
      "max             NaN     NaN        NaN           NaN        1497.340000   \n",
      "\n",
      "               Year  Household_Size Income_Level Urban_Rural  Adoption_Year  \\\n",
      "count   1000.000000     1000.000000         1000        1000    1000.000000   \n",
      "unique          NaN             NaN            3           2            NaN   \n",
      "top             NaN             NaN       Middle       Rural            NaN   \n",
      "freq            NaN             NaN          358         514            NaN   \n",
      "mean    2021.992000        4.480000          NaN         NaN    2015.992000   \n",
      "std        1.419137        2.297581          NaN         NaN       3.973629   \n",
      "min     2020.000000        1.000000          NaN         NaN    2010.000000   \n",
      "25%     2021.000000        2.000000          NaN         NaN    2013.000000   \n",
      "50%     2022.000000        5.000000          NaN         NaN    2016.000000   \n",
      "75%     2023.000000        6.000000          NaN         NaN    2019.000000   \n",
      "max     2024.000000        8.000000          NaN         NaN    2024.000000   \n",
      "\n",
      "       Subsidy_Received  Cost_Savings_USD  \n",
      "count              1000       1000.000000  \n",
      "unique                2               NaN  \n",
      "top                  No               NaN  \n",
      "freq                503               NaN  \n",
      "mean                NaN        248.389850  \n",
      "std                 NaN        143.127301  \n",
      "min                 NaN         10.420000  \n",
      "25%                 NaN        122.122500  \n",
      "50%                 NaN        242.530000  \n",
      "75%                 NaN        372.520000  \n",
      "max                 NaN        499.830000  \n"
     ]
    }
   ],
   "source": [
    "\n",
    "print(\"Kích thước dữ liệu:\", df.shape)\n",
    "print(\"\\n5 dòng đầu:\")\n",
    "print(df.head())\n",
    "\n",
    "print(\"\\nThông tin các cột:\")\n",
    "print(df.info())\n",
    "\n",
    "print(\"\\nSố lượng giá trị null mỗi cột:\")\n",
    "print(df.isnull().sum())\n",
    "\n",
    "print(\"\\nThống kê mô tả:\")\n",
    "print(df.describe(include='all'))\n"
   ]
  },
  {
   "cell_type": "markdown",
   "id": "2b6abc84",
   "metadata": {},
   "source": [
    "No null values → Không cần xử lý thiếu dữ liệu.\n",
    "\n",
    "Household_ID only contain unique values → Removed\n",
    "\n",
    "Categorial columns like : Region, Country, Energy_Source, Income_Level, Urban_Rural, Subsidy_Received → Need to be properly handled.\n",
    "\n",
    "Dữ liệu có yếu tố thời gian (Year, Adoption_Year) → Có thể phân tích theo thời gian."
   ]
  },
  {
   "cell_type": "markdown",
   "id": "c3079dac",
   "metadata": {},
   "source": [
    "# 2. Preprocess\n"
   ]
  },
  {
   "cell_type": "markdown",
   "id": "5ab3165e",
   "metadata": {},
   "source": [
    "## Check for outliers"
   ]
  },
  {
   "cell_type": "code",
   "execution_count": 70,
   "id": "abdaad48",
   "metadata": {},
   "outputs": [
    {
     "data": {
      "image/png": "[encoded data removed]",
      "text/plain": [
       "<Figure size 600x400 with 1 Axes>"
      ]
     },
     "metadata": {},
     "output_type": "display_data"
    },
    {
     "data": {
      "image/png": "[encoded data removed]",
      "text/plain": [
       "<Figure size 600x400 with 1 Axes>"
      ]
     },
     "metadata": {},
     "output_type": "display_data"
    },
    {
     "data": {
      "image/png": "[encoded data removed]",
      "text/plain": [
       "<Figure size 600x400 with 1 Axes>"
      ]
     },
     "metadata": {},
     "output_type": "display_data"
    }
   ],
   "source": [
    "num_cols = ['Monthly_Usage_kWh', 'Cost_Savings_USD', 'Household_Size']\n",
    "\n",
    "for col in num_cols:\n",
    "    plt.figure(figsize=(6, 4))\n",
    "    sns.boxplot(x=df[col], color='orange')\n",
    "    plt.title(f\"Boxplot của {col}\")\n",
    "    plt.tight_layout()\n",
    "    plt.show()\n"
   ]
  },
  {
   "cell_type": "code",
   "execution_count": 71,
   "id": "08e1502a",
   "metadata": {},
   "outputs": [
    {
     "name": "stdout",
     "output_type": "stream",
     "text": [
      "Monthly_Usage_kWh: 0 outliers (0.00%)\n",
      "Cost_Savings_USD: 0 outliers (0.00%)\n",
      "Household_Size: 0 outliers (0.00%)\n"
     ]
    }
   ],
   "source": [
    "def detect_outliers_iqr(series):\n",
    "    Q1 = series.quantile(0.25)\n",
    "    Q3 = series.quantile(0.75)\n",
    "    IQR = Q3 - Q1\n",
    "    lower = Q1 - 1.5 * IQR\n",
    "    upper = Q3 + 1.5 * IQR\n",
    "    outliers = series[(series < lower) | (series > upper)]\n",
    "    return outliers\n",
    "\n",
    "for col in num_cols:\n",
    "    outliers = detect_outliers_iqr(df[col])\n",
    "    print(f\"{col}: {len(outliers)} outliers ({len(outliers)/len(df)*100:.2f}%)\")\n"
   ]
  },
  {
   "cell_type": "markdown",
   "id": "f7700b95",
   "metadata": {},
   "source": [
    "## Address data anomalies and inconsistencies"
   ]
  },
  {
   "cell_type": "code",
   "execution_count": 72,
   "id": "60c6158f",
   "metadata": {},
   "outputs": [
    {
     "name": "stdout",
     "output_type": "stream",
     "text": [
      "Empty DataFrame\n",
      "Columns: [Household_ID, Region, Country, Energy_Source, Monthly_Usage_kWh, Year, Household_Size, Income_Level, Urban_Rural, Adoption_Year, Subsidy_Received, Cost_Savings_USD]\n",
      "Index: []\n",
      "Empty DataFrame\n",
      "Columns: [Household_ID, Region, Country, Energy_Source, Monthly_Usage_kWh, Year, Household_Size, Income_Level, Urban_Rural, Adoption_Year, Subsidy_Received, Cost_Savings_USD]\n",
      "Index: []\n"
     ]
    }
   ],
   "source": [
    "print(df[df['Cost_Savings_USD'] <= 0])  # Tiết kiệm âm hoặc 0?\n",
    "print(df[df['Monthly_Usage_kWh'] <= 0])  # Không sử dụng điện?\n"
   ]
  },
  {
   "cell_type": "code",
   "execution_count": 73,
   "id": "3474e546",
   "metadata": {},
   "outputs": [
    {
     "name": "stdout",
     "output_type": "stream",
     "text": [
      "Empty DataFrame\n",
      "Columns: [Household_ID, Region, Country, Energy_Source, Monthly_Usage_kWh, Year, Household_Size, Income_Level, Urban_Rural, Adoption_Year, Subsidy_Received, Cost_Savings_USD]\n",
      "Index: []\n"
     ]
    }
   ],
   "source": [
    "anomaly_dates = df[df['Adoption_Year'] > df['Year']]\n",
    "print(anomaly_dates)\n"
   ]
  },
  {
   "cell_type": "code",
   "execution_count": 74,
   "id": "ff70f905",
   "metadata": {},
   "outputs": [
    {
     "name": "stdout",
     "output_type": "stream",
     "text": [
      "Empty DataFrame\n",
      "Columns: [Household_ID, Region, Country, Energy_Source, Monthly_Usage_kWh, Year, Household_Size, Income_Level, Urban_Rural, Adoption_Year, Subsidy_Received, Cost_Savings_USD]\n",
      "Index: []\n"
     ]
    }
   ],
   "source": [
    "print(df[(df['Household_Size'] < 1) | (df['Household_Size'] > 20)])\n"
   ]
  },
  {
   "cell_type": "markdown",
   "id": "8cb09af5",
   "metadata": {},
   "source": [
    "Check lỗi chính tả"
   ]
  },
  {
   "cell_type": "code",
   "execution_count": 75,
   "id": "c0639345",
   "metadata": {},
   "outputs": [
    {
     "name": "stdout",
     "output_type": "stream",
     "text": [
      "['Low' 'High' 'Middle']\n",
      "['Urban' 'Rural']\n",
      "['No' 'Yes']\n"
     ]
    }
   ],
   "source": [
    "print(df['Income_Level'].unique())\n",
    "print(df['Urban_Rural'].unique())\n",
    "print(df['Subsidy_Received'].unique())\n"
   ]
  },
  {
   "cell_type": "code",
   "execution_count": 76,
   "id": "a2ce227d",
   "metadata": {},
   "outputs": [],
   "source": [
    "df['Income_Level'] = df['Income_Level'].str.strip().str.capitalize()\n",
    "df['Urban_Rural'] = df['Urban_Rural'].str.strip().str.capitalize()\n",
    "df['Subsidy_Received'] = df['Subsidy_Received'].str.strip().str.capitalize()\n"
   ]
  },
  {
   "cell_type": "markdown",
   "id": "89b7ffb3",
   "metadata": {},
   "source": [
    "Check trùng lặp"
   ]
  },
  {
   "cell_type": "code",
   "execution_count": 77,
   "id": "f2b83268",
   "metadata": {},
   "outputs": [
    {
     "name": "stdout",
     "output_type": "stream",
     "text": [
      "0\n"
     ]
    }
   ],
   "source": [
    "print(df['Household_ID'].duplicated().sum())\n"
   ]
  },
  {
   "cell_type": "markdown",
   "id": "e7a5a72a",
   "metadata": {},
   "source": [
    "## Encoding\n"
   ]
  },
  {
   "cell_type": "markdown",
   "id": "f69034b1",
   "metadata": {},
   "source": [
    "Category"
   ]
  },
  {
   "cell_type": "code",
   "execution_count": 78,
   "id": "6c21f3de",
   "metadata": {},
   "outputs": [],
   "source": [
    "cat_cols = ['Region', 'Country', 'Energy_Source', 'Income_Level', 'Urban_Rural', 'Subsidy_Received']\n"
   ]
  },
  {
   "cell_type": "code",
   "execution_count": 79,
   "id": "43ea6c97",
   "metadata": {},
   "outputs": [],
   "source": [
    "income_map = {'Low': 0, 'Middle': 1, 'High': 2}\n",
    "df['Income_Level_Encoded'] = df['Income_Level'].map(income_map)\n",
    "\n",
    "df['Urban_Encoded'] = df['Urban_Rural'].map({'Urban': 1, 'Rural': 0})\n",
    "df['Subsidy_Encoded'] = df['Subsidy_Received'].map({'Yes': 1, 'No': 0})\n",
    "\n",
    "\n",
    "df_encoded = pd.get_dummies(df, columns=['Region', 'Country', 'Energy_Source'], drop_first=True)\n",
    "\n"
   ]
  },
  {
   "cell_type": "code",
   "execution_count": 80,
   "id": "16a1ba3f",
   "metadata": {},
   "outputs": [
    {
     "data": {
      "text/plain": [
       "0      1\n",
       "1      0\n",
       "2      0\n",
       "3      1\n",
       "4      0\n",
       "      ..\n",
       "995    1\n",
       "996    0\n",
       "997    0\n",
       "998    1\n",
       "999    1\n",
       "Name: Urban_Encoded, Length: 1000, dtype: int64"
      ]
     },
     "execution_count": 80,
     "metadata": {},
     "output_type": "execute_result"
    }
   ],
   "source": [
    "df.Urban_Encoded"
   ]
  },
  {
   "cell_type": "markdown",
   "id": "89f38574",
   "metadata": {},
   "source": [
    "Numerical"
   ]
  },
  {
   "cell_type": "code",
   "execution_count": 81,
   "id": "30e75baa",
   "metadata": {},
   "outputs": [],
   "source": [
    "num_cols = ['Monthly_Usage_kWh', 'Household_Size', 'Cost_Savings_USD', 'Adoption_Year']\n"
   ]
  },
  {
   "cell_type": "code",
   "execution_count": 82,
   "id": "d90e4941",
   "metadata": {},
   "outputs": [],
   "source": [
    "from sklearn.preprocessing import StandardScaler\n",
    "\n",
    "scaler = StandardScaler()\n",
    "df_scaled = df.copy()\n",
    "df_scaled[num_cols] = scaler.fit_transform(df[num_cols])\n"
   ]
  },
  {
   "cell_type": "code",
   "execution_count": 83,
   "id": "71cb538b",
   "metadata": {},
   "outputs": [],
   "source": [
    "for col in num_cols:\n",
    "    df_scaled[col + '_scaled'] = scaler.fit_transform(df[[col]])\n"
   ]
  },
  {
   "cell_type": "markdown",
   "id": "6ff5adc6",
   "metadata": {},
   "source": [
    "## Create clean and structured data for analysis"
   ]
  },
  {
   "cell_type": "code",
   "execution_count": 84,
   "id": "b377df2f",
   "metadata": {},
   "outputs": [],
   "source": [
    "cols_to_drop = ['Household_ID', 'Region', 'Country', 'Energy_Source', \n",
    "                'Income_Level', 'Urban_Rural', 'Subsidy_Received']\n",
    "df_clean = df.drop(columns=cols_to_drop)\n"
   ]
  },
  {
   "cell_type": "code",
   "execution_count": 85,
   "id": "44efca00",
   "metadata": {},
   "outputs": [],
   "source": [
    "from sklearn.preprocessing import StandardScaler\n",
    "\n",
    "# Cột số\n",
    "num_cols = ['Monthly_Usage_kWh', 'Household_Size', 'Cost_Savings_USD', 'Adoption_Year']\n",
    "scaler = StandardScaler()\n",
    "df_scaled = df.copy()\n",
    "df_scaled[num_cols] = scaler.fit_transform(df[num_cols])\n",
    "\n",
    "# One-hot encoding\n",
    "df_encoded = pd.get_dummies(df, columns=['Region', 'Country', 'Energy_Source'], drop_first=True)\n",
    "\n",
    "# Encode ordinal & binary\n",
    "df_encoded['Income_Level_Encoded'] = df_encoded['Income_Level'].map({'Low': 0, 'Middle': 1, 'High': 2})\n",
    "df_encoded['Urban_Encoded'] = df_encoded['Urban_Rural'].map({'Urban': 1, 'Rural': 0})\n",
    "df_encoded['Subsidy_Encoded'] = df_encoded['Subsidy_Received'].map({'Yes': 1, 'No': 0})\n",
    "\n",
    "# Drop redundant columns\n",
    "final_df = df_encoded.drop(columns=['Household_ID', 'Income_Level', 'Urban_Rural', 'Subsidy_Received'])\n",
    "\n",
    "# Replace scaled columns\n",
    "final_df[num_cols] = df_scaled[num_cols]\n"
   ]
  },
  {
   "cell_type": "code",
   "execution_count": 86,
   "id": "9438b397",
   "metadata": {},
   "outputs": [],
   "source": [
    "final_df.to_csv(\"../Data/cleaned_data.csv\", index=False)\n"
   ]
  },
  {
   "cell_type": "code",
   "execution_count": 87,
   "id": "ab0fb0dc",
   "metadata": {},
   "outputs": [],
   "source": [
    "final_df.to_pickle(\"../Data/cleaned_data.pkl\")\n"
   ]
  }
 ],
 "metadata": {
  "kernelspec": {
   "display_name": "base",
   "language": "python",
   "name": "python3"
  },
  "language_info": {
   "codemirror_mode": {
    "name": "ipython",
    "version": 3
   },
   "file_extension": ".py",
   "mimetype": "text/x-python",
   "name": "python",
   "nbconvert_exporter": "python",
   "pygments_lexer": "ipython3",
   "version": "3.12.7"
  }
 },
 "nbformat": 4,
 "nbformat_minor": 5
}
